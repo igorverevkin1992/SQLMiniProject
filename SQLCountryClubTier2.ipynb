{
 "cells": [
  {
   "cell_type": "markdown",
   "metadata": {},
   "source": [
    "PART ONE ANSWERS:\n",
    "\n",
    "/* QUESTIONS \n",
    "/* Q1: Some of the facilities charge a fee to members, but some do not.\n",
    "Write a SQL query to produce a list of the names of the facilities that do. */\n",
    "\n",
    "SELECT name FROM Facilities WHERE membercost != 0;\n",
    "\n",
    "/* Q2: How many facilities do not charge a fee to members? */\n",
    "\n",
    "SELECT COUNT(name) FROM Facilities WHERE membercost > 0;\n",
    "\n",
    "/* Q3: Write an SQL query to show a list of facilities that charge a fee to members,\n",
    "where the fee is less than 20% of the facility's monthly maintenance cost.\n",
    "Return the facid, facility name, member cost, and monthly maintenance of the\n",
    "facilities in question. */\n",
    "\n",
    "SELECT facid, name, membercost, monthlymaintenance\n",
    "FROM Facilities\n",
    "WHERE membercost != 0 AND (membercost < monthlymaintenance * 0.2);\n",
    "\n",
    "/* Q4: Write an SQL query to retrieve the details of facilities with ID 1 and 5.\n",
    "Try writing the query without using the OR operator. */\n",
    "\n",
    "(SELECT *\n",
    "FROM Facilities \n",
    "\tWHERE facid=1)\n",
    "UNION\n",
    "(SELECT *\n",
    " FROM Facilities\n",
    " \tWHERE facid=5);\n",
    "\n",
    "\n",
    "/* Q5: Produce a list of facilities, with each labelled as\n",
    "'cheap' or 'expensive', depending on if their monthly maintenance cost is\n",
    "more than $100. Return the name and monthly maintenance of the facilities\n",
    "in question. */\n",
    "\n",
    "SELECT name,\n",
    "\tCASE WHEN monthlymaintenance < 100 THEN 'cheap'\n",
    "\t\tELSE 'expensive' END AS cost\n",
    "FROM Facilities;\n",
    "\n",
    "/* Q6: You'd like to get the first and last name of the last member(s)\n",
    "who signed up. Try not to use the LIMIT clause for your solution. */\n",
    "\n",
    "SELECT firstname, surname, joindate\n",
    "FROM Members\n",
    "WHERE joindate = \n",
    "\t(SELECT MAX(joindate)\n",
    "\t FROM Members);\n",
    "\n",
    "/* Q7: Produce a list of all members who have used a tennis court.\n",
    "Include in your output the name of the court, and the name of the member\n",
    "formatted as a single column. Ensure no duplicate data, and order by\n",
    "the member name. */\n",
    "\n",
    "SELECT DISTINCT CONCAT(m.firstname, ' ', m.surname) AS member, f.name AS facility\n",
    "FROM Bookings AS b\n",
    "INNER JOIN Members AS m\n",
    "ON b.memid = m.memid\n",
    "INNER JOIN Facilities as f\n",
    "ON b.facid = f.facid\n",
    "WHERE f.name LIKE '%Tennis Court%'\n",
    "ORDER BY member;\n",
    "\n",
    "/* Q8: Produce a list of bookings on the day of 2012-09-14 which\n",
    "will cost the member (or guest) more than $30. Remember that guests have\n",
    "different costs to members (the listed costs are per half-hour 'slot'), and\n",
    "the guest user's ID is always 0. Include in your output the name of the\n",
    "facility, the name of the member formatted as a single column, and the cost.\n",
    "Order by descending cost, and do not use any subqueries. */\n",
    "\n",
    "SELECT CONCAT(m.firstname, ' ', m.surname) AS member, f.name AS facility,\n",
    "\tCASE WHEN m.memid = 0 THEN b.slots*f.guestcost ELSE b.slots*f.membercost\n",
    "\tEND AS cost\n",
    "FROM Members as m\n",
    "\tINNER JOIN Bookings AS b\n",
    "\tON m.memid = b.memid\n",
    "\tINNER JOIN Facilities AS f\n",
    "\tON b.facid = f.facid\n",
    "WHERE (b.starttime BETWEEN '2012-09-14' and '2012-09-15')\n",
    "\tAND (\n",
    "\t  (m.memid = 0 AND b.slots*f.guestcost > 30) OR\n",
    "\t  (m.memid != 0 AND b.slots*f.membercost >30)\n",
    "\t  )\n",
    "ORDER BY cost DESC;\n",
    "\n",
    "/* Q9: This time, produce the same result as in Q8, but using a subquery. */\n",
    "\n",
    "SELECT member, facility, cost\n",
    "FROM\n",
    "\t(SELECT f.name AS facility, concat(m.firstname, ' ', m.surname) AS member, \n",
    "\t CASE\n",
    "\t \t\tWHEN m.memid = 0 THEN\n",
    "\t \t\t\t\tb.slots*f.guestcost\n",
    "\t \t\tELSE\n",
    "\t \t\t\t\tb.slots*f.membercost\n",
    "\tEND AS cost\n",
    "\tFROM Members AS m\n",
    "\tINNER JOIN Bookings AS b\n",
    "\tON m.memid = b.memid\n",
    "\tINNER JOIN Facilities AS f\n",
    "\tON b.facid = f.facid\n",
    "\tWHERE b.starttime BETWEEN '2012-09-14' AND '2012-09-15') AS bookings\n",
    "\tWHERE cost > 30\n",
    "ORDER BY cost DESC;"
   ]
  },
  {
   "cell_type": "code",
   "execution_count": 2,
   "metadata": {},
   "outputs": [],
   "source": [
    "import pandas as pd\n",
    "import sqlite3"
   ]
  },
  {
   "cell_type": "code",
   "execution_count": 3,
   "metadata": {},
   "outputs": [],
   "source": [
    "conn = sqlite3.connect('./sqlite_db_pythonsqlite.db')"
   ]
  },
  {
   "cell_type": "code",
   "execution_count": 4,
   "metadata": {},
   "outputs": [],
   "source": [
    "cur = conn.cursor()"
   ]
  },
  {
   "cell_type": "markdown",
   "metadata": {},
   "source": [
    "PART 2"
   ]
  },
  {
   "cell_type": "code",
   "execution_count": 5,
   "metadata": {},
   "outputs": [],
   "source": [
    "# Q10: Produce a list of facilities with a total revenue less than 1000.\n",
    "# The output of facility name and total revenue, sorted by revenue. Remember\n",
    "# that there's a different cost for guests and members!\n",
    "\n",
    "cur.execute(\"\"\"SELECT name, revenue FROM\n",
    "  (SELECT f.name, sum(CASE\n",
    "                    WHEN memid = 0 THEN slots * f.guestcost\n",
    "                    ELSE slots * f.membercost\n",
    "                    END) AS revenue\n",
    "        FROM Bookings AS b\n",
    "        INNER JOIN Facilities as f\n",
    "            ON b.facid = f.facid\n",
    "        GROUP BY f.name\n",
    "    ) AS agg WHERE revenue < 1000\n",
    "ORDER BY revenue;\"\"\");"
   ]
  },
  {
   "cell_type": "code",
   "execution_count": 6,
   "metadata": {},
   "outputs": [
    {
     "name": "stdout",
     "output_type": "stream",
     "text": [
      "[('Table Tennis', 180), ('Snooker Table', 240), ('Pool Table', 270)]\n"
     ]
    }
   ],
   "source": [
    "res = cur.fetchall()\n",
    "print(res)"
   ]
  },
  {
   "cell_type": "code",
   "execution_count": 7,
   "metadata": {},
   "outputs": [],
   "source": [
    "# Q11: Produce a report of members and who recommended them in alphabetic surname,firstname order\n",
    "\n",
    "cur.execute(\"\"\"SELECT m.firstname AS memfname, m.surname AS memsname, r.firstname AS recfname, r.surname AS recsname\n",
    "    FROM Members AS m\n",
    "    LEFT JOIN Members AS r\n",
    "    ON m.recommendedby = r.memid\n",
    "ORDER BY m.surname, m.firstname;\"\"\");"
   ]
  },
  {
   "cell_type": "code",
   "execution_count": 8,
   "metadata": {},
   "outputs": [
    {
     "name": "stdout",
     "output_type": "stream",
     "text": [
      "[('Florence', 'Bader', 'Ponder', 'Stibbons'), ('Anne', 'Baker', 'Ponder', 'Stibbons'), ('Timothy', 'Baker', 'Jemima', 'Farrell'), ('Tim', 'Boothe', 'Tim', 'Rownam'), ('Gerald', 'Butters', 'Darren', 'Smith'), ('Joan', 'Coplin', 'Timothy', 'Baker'), ('Erica', 'Crumpet', 'Tracy', 'Smith'), ('Nancy', 'Dare', 'Janice', 'Joplette'), ('David', 'Farrell', None, None), ('Jemima', 'Farrell', None, None), ('GUEST', 'GUEST', None, None), ('Matthew', 'Genting', 'Gerald', 'Butters'), ('John', 'Hunt', 'Millicent', 'Purview'), ('David', 'Jones', 'Janice', 'Joplette'), ('Douglas', 'Jones', 'David', 'Jones'), ('Janice', 'Joplette', 'Darren', 'Smith'), ('Anna', 'Mackenzie', 'Darren', 'Smith'), ('Charles', 'Owen', 'Darren', 'Smith'), ('David', 'Pinker', 'Jemima', 'Farrell'), ('Millicent', 'Purview', 'Tracy', 'Smith'), ('Tim', 'Rownam', None, None), ('Henrietta', 'Rumney', 'Matthew', 'Genting'), ('Ramnaresh', 'Sarwin', 'Florence', 'Bader'), ('Darren', 'Smith', None, None), ('Darren', 'Smith', None, None), ('Jack', 'Smith', 'Darren', 'Smith'), ('Tracy', 'Smith', None, None), ('Ponder', 'Stibbons', 'Burton', 'Tracy'), ('Burton', 'Tracy', None, None), ('Hyacinth', 'Tupperware', None, None), ('Henry', 'Worthington-Smyth', 'Tracy', 'Smith')]\n"
     ]
    }
   ],
   "source": [
    "res = cur.fetchall()\n",
    "print(res)"
   ]
  },
  {
   "cell_type": "code",
   "execution_count": 9,
   "metadata": {},
   "outputs": [],
   "source": [
    "# Q12: Find the facilities with their usage by member, but not guests\n",
    "\n",
    "cur.execute(\"\"\"SELECT m.surname AS member, b.facid, SUM(slots) AS \"Slots\"\n",
    "    FROM Bookings AS b\n",
    "    INNER JOIN Members AS m\n",
    "    ON b.memid = m.memid\n",
    "    WHERE b.memid != 0\n",
    "    GROUP BY b.facid\n",
    "ORDER BY b.facid;\"\"\");"
   ]
  },
  {
   "cell_type": "code",
   "execution_count": 10,
   "metadata": {},
   "outputs": [
    {
     "name": "stdout",
     "output_type": "stream",
     "text": [
      "[('Smith', 0, 957), ('Rownam', 1, 882), ('Smith', 2, 1086), ('Smith', 3, 794), ('Smith', 4, 884), ('Joplette', 5, 54), ('Smith', 6, 418), ('Smith', 7, 860), ('Smith', 8, 856)]\n"
     ]
    }
   ],
   "source": [
    "res = cur.fetchall()\n",
    "print(res)"
   ]
  },
  {
   "cell_type": "code",
   "execution_count": 13,
   "metadata": {},
   "outputs": [],
   "source": [
    "# Q13: Find the facilities usage by month, but not guests\n",
    "\n",
    "cur.execute(\"\"\"select strftime('%M/%Y', starttime) as month, count(*)\n",
    "    from Bookings\n",
    "    group by month\n",
    "    order by month\"\"\");"
   ]
  },
  {
   "cell_type": "code",
   "execution_count": 15,
   "metadata": {},
   "outputs": [
    {
     "name": "stdout",
     "output_type": "stream",
     "text": [
      "[]\n"
     ]
    }
   ],
   "source": [
    "res1 = cur.fetchall()\n",
    "print(res1)"
   ]
  }
 ],
 "metadata": {
  "kernelspec": {
   "display_name": "Python 3",
   "language": "python",
   "name": "python3"
  },
  "language_info": {
   "codemirror_mode": {
    "name": "ipython",
    "version": 3
   },
   "file_extension": ".py",
   "mimetype": "text/x-python",
   "name": "python",
   "nbconvert_exporter": "python",
   "pygments_lexer": "ipython3",
   "version": "3.7.6"
  }
 },
 "nbformat": 4,
 "nbformat_minor": 4
}
